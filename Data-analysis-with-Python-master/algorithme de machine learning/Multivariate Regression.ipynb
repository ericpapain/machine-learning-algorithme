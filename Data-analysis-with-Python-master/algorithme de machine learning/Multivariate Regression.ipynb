{
 "cells": [
  {
   "cell_type": "markdown",
   "metadata": {},
   "source": [
    "Ici cet algorithme permet de faire des prédictions sur plusieurs variables prédictives"
   ]
  },
  {
   "cell_type": "markdown",
   "metadata": {},
   "source": [
    "Quand une variable cible est le fruit de la corrélation de plusieurs variables prédictives, on parle de Multivariate Regression pour faire des prédictions."
   ]
  },
  {
   "cell_type": "markdown",
   "metadata": {},
   "source": [
    "F(X) = e + alpha*x1 + beta*x2 + ... + omega*xn"
   ]
  },
  {
   "cell_type": "markdown",
   "metadata": {},
   "source": [
    "X : est un vecteur/tableau de variables prédictives. Pour l’exemple de prédiction du prix de voiture, la taille du vecteur X sera égale à 3 (nombre de Km, nombre de cylindres, et le nombre de portes)"
   ]
  },
  {
   "cell_type": "code",
   "execution_count": 47,
   "metadata": {},
   "outputs": [],
   "source": [
    "import pandas as pd\n",
    "import statsmodels.api as sm\n",
    "from sklearn.preprocessing import StandardScaler\n",
    "import numpy as np\n",
    "\n",
    "from mpl_toolkits.mplot3d import Axes3D\n",
    "import matplotlib.pyplot as plt"
   ]
  },
  {
   "cell_type": "code",
   "execution_count": 48,
   "metadata": {},
   "outputs": [],
   "source": [
    "df = pd.read_excel(\"algo/dataset/Multivariate_Linear_Regression_dataset.xlsx\")"
   ]
  },
  {
   "cell_type": "code",
   "execution_count": 49,
   "metadata": {},
   "outputs": [
    {
     "data": {
      "text/plain": [
       "(47, 3)"
      ]
     },
     "execution_count": 49,
     "metadata": {},
     "output_type": "execute_result"
    }
   ],
   "source": [
    "df.shape"
   ]
  },
  {
   "cell_type": "code",
   "execution_count": 50,
   "metadata": {
    "scrolled": true
   },
   "outputs": [],
   "source": [
    "X = df.iloc[0:len(df),0]\n",
    "Y = df.iloc[0:len(df),1]\n",
    "Z = df.iloc[0:len(df),2]"
   ]
  },
  {
   "cell_type": "code",
   "execution_count": 51,
   "metadata": {},
   "outputs": [
    {
     "name": "stdout",
     "output_type": "stream",
     "text": [
      "0     2104\n",
      "1     1600\n",
      "2     2400\n",
      "3     1416\n",
      "4     3000\n",
      "5     1985\n",
      "6     1534\n",
      "7     1427\n",
      "8     1380\n",
      "9     1494\n",
      "10    1940\n",
      "11    2000\n",
      "12    1890\n",
      "13    4478\n",
      "14    1268\n",
      "15    2300\n",
      "16    1320\n",
      "17    1236\n",
      "18    2609\n",
      "19    3031\n",
      "20    1767\n",
      "21    1888\n",
      "22    1604\n",
      "23    1962\n",
      "24    3890\n",
      "25    1100\n",
      "26    1458\n",
      "27    2526\n",
      "28    2200\n",
      "29    2637\n",
      "30    1839\n",
      "31    1000\n",
      "32    2040\n",
      "33    3137\n",
      "34    1811\n",
      "35    1437\n",
      "36    1239\n",
      "37    2132\n",
      "38    4215\n",
      "39    2162\n",
      "40    1664\n",
      "41    2238\n",
      "42    2567\n",
      "43    1200\n",
      "44     852\n",
      "45    1852\n",
      "46    1203\n",
      "Name: taille_en_pieds_carre, dtype: int64\n"
     ]
    }
   ],
   "source": [
    "print(X)"
   ]
  },
  {
   "cell_type": "code",
   "execution_count": 52,
   "metadata": {},
   "outputs": [
    {
     "name": "stdout",
     "output_type": "stream",
     "text": [
      "0     3\n",
      "1     3\n",
      "2     3\n",
      "3     2\n",
      "4     4\n",
      "5     4\n",
      "6     3\n",
      "7     3\n",
      "8     3\n",
      "9     3\n",
      "10    4\n",
      "11    3\n",
      "12    3\n",
      "13    5\n",
      "14    3\n",
      "15    4\n",
      "16    2\n",
      "17    3\n",
      "18    4\n",
      "19    4\n",
      "20    3\n",
      "21    2\n",
      "22    3\n",
      "23    4\n",
      "24    3\n",
      "25    3\n",
      "26    3\n",
      "27    3\n",
      "28    3\n",
      "29    3\n",
      "30    2\n",
      "31    1\n",
      "32    4\n",
      "33    3\n",
      "34    4\n",
      "35    3\n",
      "36    3\n",
      "37    4\n",
      "38    4\n",
      "39    4\n",
      "40    2\n",
      "41    3\n",
      "42    4\n",
      "43    3\n",
      "44    2\n",
      "45    4\n",
      "46    3\n",
      "Name: nb_chambres, dtype: int64\n"
     ]
    }
   ],
   "source": [
    "print(Y)"
   ]
  },
  {
   "cell_type": "code",
   "execution_count": 53,
   "metadata": {},
   "outputs": [
    {
     "name": "stdout",
     "output_type": "stream",
     "text": [
      "0     399900\n",
      "1     329900\n",
      "2     369000\n",
      "3     232000\n",
      "4     539900\n",
      "5     299900\n",
      "6     314900\n",
      "7     198999\n",
      "8     212000\n",
      "9     242500\n",
      "10    239999\n",
      "11    347000\n",
      "12    329999\n",
      "13    699900\n",
      "14    259900\n",
      "15    449900\n",
      "16    299900\n",
      "17    199900\n",
      "18    499998\n",
      "19    599000\n",
      "20    252900\n",
      "21    255000\n",
      "22    242900\n",
      "23    259900\n",
      "24    573900\n",
      "25    249900\n",
      "26    464500\n",
      "27    469000\n",
      "28    475000\n",
      "29    299900\n",
      "30    349900\n",
      "31    169900\n",
      "32    314900\n",
      "33    579900\n",
      "34    285900\n",
      "35    249900\n",
      "36    229900\n",
      "37    345000\n",
      "38    549000\n",
      "39    287000\n",
      "40    368500\n",
      "41    329900\n",
      "42    314000\n",
      "43    299000\n",
      "44    179900\n",
      "45    299900\n",
      "46    239500\n",
      "Name: prix, dtype: int64\n"
     ]
    }
   ],
   "source": [
    "print(Z)"
   ]
  },
  {
   "cell_type": "code",
   "execution_count": 54,
   "metadata": {},
   "outputs": [
    {
     "name": "stdout",
     "output_type": "stream",
     "text": [
      "   taille_en_pieds_carre  nb_chambres    prix\n",
      "0                   2104            3  399900\n",
      "1                   1600            3  329900\n",
      "2                   2400            3  369000\n",
      "3                   1416            2  232000\n",
      "4                   3000            4  539900\n",
      "5                   1985            4  299900\n"
     ]
    }
   ],
   "source": [
    "print (df.head(6))"
   ]
  },
  {
   "cell_type": "code",
   "execution_count": 55,
   "metadata": {},
   "outputs": [
    {
     "data": {
      "text/plain": [
       "<Figure size 432x288 with 0 Axes>"
      ]
     },
     "metadata": {},
     "output_type": "display_data"
    }
   ],
   "source": [
    "fig = plt.figure()"
   ]
  },
  {
   "cell_type": "code",
   "execution_count": 56,
   "metadata": {},
   "outputs": [],
   "source": [
    "Y = df[\"prix\"]"
   ]
  },
  {
   "cell_type": "code",
   "execution_count": 57,
   "metadata": {},
   "outputs": [],
   "source": [
    "X = df[['taille_en_pieds_carre','nb_chambres']]"
   ]
  },
  {
   "cell_type": "markdown",
   "metadata": {},
   "source": [
    "### Normalisation des features (Features Scaling) : les valeurs seront \n",
    "### approximativement comprises entre -1 et 1.\n",
    "### La Normalisation est utile quand les ordres de grandeur des valeurs de nos \n",
    "### features sont trés différents :\n",
    "### En effet, Taille d'une maison en \"pieds²\" est de quelques miliers,\n",
    "### alors que le nombre de chambre est généralement plus petit que 10\n"
   ]
  },
  {
   "cell_type": "markdown",
   "metadata": {},
   "source": [
    "La librairie Scikit learn de Python propose plusieurs classes et méthodes pour faire de la préparation de données (Data pre-processing) pour les algorithmes de Machine Learning. Le package sklearn.preprocessing propose la classe StandardScaler qui permettra de faire du features scaling sur toutes nos variables prédictives."
   ]
  },
  {
   "cell_type": "code",
   "execution_count": 60,
   "metadata": {},
   "outputs": [],
   "source": [
    "scale = StandardScaler()\n",
    "X_scaled = scale.fit_transform(X[['taille_en_pieds_carre', 'nb_chambres']].values)"
   ]
  },
  {
   "cell_type": "code",
   "execution_count": 61,
   "metadata": {},
   "outputs": [
    {
     "name": "stdout",
     "output_type": "stream",
     "text": [
      "[[ 1.31415422e-01 -2.26093368e-01]\n",
      " [-5.09640698e-01 -2.26093368e-01]\n",
      " [ 5.07908699e-01 -2.26093368e-01]\n",
      " [-7.43677059e-01 -1.55439190e+00]\n",
      " [ 1.27107075e+00  1.10220517e+00]\n",
      " [-1.99450507e-02  1.10220517e+00]\n",
      " [-5.93588523e-01 -2.26093368e-01]\n",
      " [-7.29685755e-01 -2.26093368e-01]\n",
      " [-7.89466782e-01 -2.26093368e-01]\n",
      " [-6.44465993e-01 -2.26093368e-01]\n",
      " [-7.71822042e-02  1.10220517e+00]\n",
      " [-8.65999486e-04 -2.26093368e-01]\n",
      " [-1.40779041e-01 -2.26093368e-01]\n",
      " [ 3.15099326e+00  2.43050370e+00]\n",
      " [-9.31923697e-01 -2.26093368e-01]\n",
      " [ 3.80715024e-01  1.10220517e+00]\n",
      " [-8.65782986e-01 -1.55439190e+00]\n",
      " [-9.72625673e-01 -2.26093368e-01]\n",
      " [ 7.73743478e-01  1.10220517e+00]\n",
      " [ 1.31050078e+00  1.10220517e+00]\n",
      " [-2.97227261e-01 -2.26093368e-01]\n",
      " [-1.43322915e-01 -1.55439190e+00]\n",
      " [-5.04552951e-01 -2.26093368e-01]\n",
      " [-4.91995958e-02  1.10220517e+00]\n",
      " [ 2.40309445e+00 -2.26093368e-01]\n",
      " [-1.14560907e+00 -2.26093368e-01]\n",
      " [-6.90255715e-01 -2.26093368e-01]\n",
      " [ 6.68172729e-01 -2.26093368e-01]\n",
      " [ 2.53521350e-01 -2.26093368e-01]\n",
      " [ 8.09357707e-01 -2.26093368e-01]\n",
      " [-2.05647815e-01 -1.55439190e+00]\n",
      " [-1.27280274e+00 -2.88269044e+00]\n",
      " [ 5.00114703e-02  1.10220517e+00]\n",
      " [ 1.44532608e+00 -2.26093368e-01]\n",
      " [-2.41262044e-01  1.10220517e+00]\n",
      " [-7.16966387e-01 -2.26093368e-01]\n",
      " [-9.68809863e-01 -2.26093368e-01]\n",
      " [ 1.67029651e-01  1.10220517e+00]\n",
      " [ 2.81647389e+00  1.10220517e+00]\n",
      " [ 2.05187753e-01  1.10220517e+00]\n",
      " [-4.28236746e-01 -1.55439190e+00]\n",
      " [ 3.01854946e-01 -2.26093368e-01]\n",
      " [ 7.20322135e-01  1.10220517e+00]\n",
      " [-1.01841540e+00 -2.26093368e-01]\n",
      " [-1.46104938e+00 -1.55439190e+00]\n",
      " [-1.89112638e-01  1.10220517e+00]\n",
      " [-1.01459959e+00 -2.26093368e-01]]\n"
     ]
    }
   ],
   "source": [
    "print (X_scaled)"
   ]
  },
  {
   "cell_type": "code",
   "execution_count": 62,
   "metadata": {},
   "outputs": [],
   "source": [
    "est = sm.OLS(Y, X).fit()"
   ]
  },
  {
   "cell_type": "code",
   "execution_count": 63,
   "metadata": {},
   "outputs": [
    {
     "name": "stdout",
     "output_type": "stream",
     "text": [
      "                                 OLS Regression Results                                \n",
      "=======================================================================================\n",
      "Dep. Variable:                   prix   R-squared (uncentered):                   0.966\n",
      "Model:                            OLS   Adj. R-squared (uncentered):              0.964\n",
      "Method:                 Least Squares   F-statistic:                              631.4\n",
      "Date:                Fri, 23 Aug 2019   Prob (F-statistic):                    1.19e-33\n",
      "Time:                        02:02:43   Log-Likelihood:                         -589.11\n",
      "No. Observations:                  47   AIC:                                      1182.\n",
      "Df Residuals:                      45   BIC:                                      1186.\n",
      "Df Model:                           2                                                  \n",
      "Covariance Type:            nonrobust                                                  \n",
      "=========================================================================================\n",
      "                            coef    std err          t      P>|t|      [0.025      0.975]\n",
      "-----------------------------------------------------------------------------------------\n",
      "taille_en_pieds_carre   140.8611     15.355      9.174      0.000     109.935     171.788\n",
      "nb_chambres            1.698e+04   1.01e+04      1.676      0.101   -3424.632    3.74e+04\n",
      "==============================================================================\n",
      "Omnibus:                        2.046   Durbin-Watson:                   1.923\n",
      "Prob(Omnibus):                  0.359   Jarque-Bera (JB):                1.215\n",
      "Skew:                           0.354   Prob(JB):                        0.545\n",
      "Kurtosis:                       3.346   Cond. No.                     2.17e+03\n",
      "==============================================================================\n",
      "\n",
      "Warnings:\n",
      "[1] Standard Errors assume that the covariance matrix of the errors is correctly specified.\n",
      "[2] The condition number is large, 2.17e+03. This might indicate that there are\n",
      "strong multicollinearity or other numerical problems.\n"
     ]
    }
   ],
   "source": [
    "print (est.summary())"
   ]
  },
  {
   "cell_type": "code",
   "execution_count": 78,
   "metadata": {},
   "outputs": [
    {
     "data": {
      "image/png": "[encoded data removed]",
      "text/plain": [
       "<Figure size 432x288 with 1 Axes>"
      ]
     },
     "metadata": {
      "needs_background": "light"
     },
     "output_type": "display_data"
    }
   ],
   "source": [
    "fig = plt.figure()\n",
    "#use this line to print only one figure\n",
    "#ax = fig.add_subplot(111, projection='3d')\n",
    "ax = fig.add_subplot(projection='3d')\n",
    "ax.scatter(df[\"taille_en_pieds_carre\"], df[\"nb_chambres\"], df[\"prix\"], c='r', marker='^')\n",
    "\n",
    "ax.set_xlabel('surface en pieds_carre')\n",
    "ax.set_ylabel('nb_chambres')\n",
    "ax.set_zlabel('prix en $')\n",
    "\n",
    "\n",
    "\n",
    "frst_col_surface =  df.iloc[0:len(df),0] #selection de la première colonne de notre dataset\n",
    "scnd_col_nb_chambre =  df.iloc[0:len(df),1]\n",
    "third_col_prix = df.iloc[0:len(df),2]\n"
   ]
  },
  {
   "cell_type": "code",
   "execution_count": 65,
   "metadata": {},
   "outputs": [],
   "source": [
    "def predict_price_of_house(taille_maison, nb_chambre):\n",
    "    return 140.8611 * taille_maison + 1.698e+04 * nb_chambre # not scaled\n",
    "    #return 1.094e+05 * taille_maison + (6578.3549 * nb_chambre) # scaled\n"
   ]
  },
  {
   "cell_type": "markdown",
   "metadata": {},
   "source": [
    "### notre fonction prédiction sera definie par : \n",
    "## prix_estimé = F(superficie, nb_chambres) = ε + α * superficie + β * nb_chambres"
   ]
  },
  {
   "cell_type": "code",
   "execution_count": 66,
   "metadata": {},
   "outputs": [],
   "source": [
    "def predict_all(lst_sizes, lst_nb_chmbres):\n",
    "    predicted_prices = []\n",
    "    for n in range(0, len(Y)):\n",
    "        predicted_prices.append(predict_price_of_house(lst_sizes[n], lst_nb_chmbres[n]))\n",
    "    return predicted_prices\n"
   ]
  },
  {
   "cell_type": "code",
   "execution_count": 67,
   "metadata": {},
   "outputs": [],
   "source": [
    "#print predict_all(df[\"taille_en_pieds_carre\"], df[\"nb_chambres\"])\n",
    "\n",
    "# set up the axes for the second plot\n",
    "ax = fig.add_subplot(1, 2, 2, projection='3d')"
   ]
  },
  {
   "cell_type": "code",
   "execution_count": 72,
   "metadata": {},
   "outputs": [],
   "source": [
    "ax.plot_trisurf(df[\"taille_en_pieds_carre\"], df[\"nb_chambres\"], predict_all(df[\"taille_en_pieds_carre\"], df[\"nb_chambres\"]))\n",
    "\n",
    "\n",
    "plt.show()\n"
   ]
  },
  {
   "cell_type": "markdown",
   "metadata": {},
   "source": [
    "### Exemple de prediction de prix de vente de maison en fonction de la taille de la maison et du nombre de chambre en tenant compte des données d'entrainement"
   ]
  },
  {
   "cell_type": "code",
   "execution_count": 71,
   "metadata": {
    "scrolled": true
   },
   "outputs": [
    {
     "name": "stdout",
     "output_type": "stream",
     "text": [
      "718774.95\n"
     ]
    }
   ],
   "source": [
    "print (predict_price_of_house(4500,5))"
   ]
  },
  {
   "cell_type": "code",
   "execution_count": null,
   "metadata": {},
   "outputs": [],
   "source": []
  }
 ],
 "metadata": {
  "kernelspec": {
   "display_name": "Python 3",
   "language": "python",
   "name": "python3"
  },
  "language_info": {
   "codemirror_mode": {
    "name": "ipython",
    "version": 3
   },
   "file_extension": ".py",
   "mimetype": "text/x-python",
   "name": "python",
   "nbconvert_exporter": "python",
   "pygments_lexer": "ipython3",
   "version": "3.7.3"
  }
 },
 "nbformat": 4,
 "nbformat_minor": 2
}
